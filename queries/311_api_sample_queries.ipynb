{
 "cells": [
  {
   "cell_type": "code",
   "execution_count": 58,
   "metadata": {
    "extensions": {
     "jupyter_dashboards": {
      "version": 1,
      "views": {
       "grid_default": {
        "hidden": true
       },
       "report_default": {}
      }
     }
    }
   },
   "outputs": [],
   "source": [
    "# make sure to install these packages before running:\n",
    "# pip install pandas\n",
    "# pip install sodapy\n",
    "\n",
    "import pandas as pd\n",
    "from sodapy import Socrata\n",
    "import time"
   ]
  },
  {
   "cell_type": "code",
   "execution_count": 61,
   "metadata": {
    "extensions": {
     "jupyter_dashboards": {
      "version": 1,
      "views": {
       "grid_default": {
        "col": 0,
        "height": 4,
        "hidden": false,
        "row": 0,
        "width": 4
       },
       "report_default": {}
      }
     }
    }
   },
   "outputs": [
    {
     "name": "stdout",
     "output_type": "stream",
     "text": [
      "2.15037987431333 seconds\n"
     ]
    }
   ],
   "source": [
    "#specify client\n",
    "client = Socrata(\"data.cityofnewyork.us\", 'VQtPna4DyINdAHU8AgxFGwiEr')\n",
    "\n",
    "#maximal limit perrequest is 50,000\n",
    "#following is an example of spatial query given a multipolygon\n",
    "\n",
    "MTPLG = 'MULTIPOLYGON (((-73.94732672160586 40.62916656720947, -73.94687439946745 40.626773668128536, -73.94642266064325 40.62438556728645, -73.94542442897415 40.62449560959823, -73.94497031348955 40.62210451293764, -73.94451833370505 40.61971364709508, -73.94551663574792 40.61960561195174, -73.94651373193835 40.61949401914997, -73.94606699612437 40.61710373918019, -73.945763594919 40.61550406422126, -73.94573691912035 40.61536340675665, -73.94657366828146 40.614789131137535, -73.94742608780814 40.61422460055368, -73.94772682569703 40.61416971618289, -73.94834517370126 40.614136496631644, -73.94930527478502 40.61403073451604, -73.95026514882969 40.61392435179741, -73.94999598103782 40.612491461663254, -73.94996296695332 40.612315727849385, -73.94993049319113 40.6121446508932, -73.94978380450684 40.611371750477694, -73.95070512926125 40.61125045222408, -73.95163235049947 40.61112353986174, -73.95256553090692 40.610987184733965, -73.95258786948979 40.61111223958905, -73.95359888852914 40.610949865606415, -73.9547955271003 40.61082076565259, -73.95574066989153 40.61071482745622, -73.95670471406353 40.61061187782893, -73.9576680137944 40.61050371521898, -73.9580473192723 40.61046276244425, -73.95859278495774 40.61040303093508, -73.95952069567834 40.6103020528368, -73.96044361881546 40.61020150680258, -73.9613726831359 40.61009887471164, -73.96237947824771 40.60998637452585, -73.96285973961463 40.612549486467046, -73.96336094023268 40.615204428336206, -73.96356470625163 40.61623872246751, -73.96362245555169 40.61658973720423, -73.96375418658931 40.617302433542974, -73.96381145170669 40.61758940154461, -73.96388935578916 40.618000549884364, -73.96426798339401 40.6199838032854, -73.96471983385591 40.62237296070274, -73.96571874618468 40.62226402946434, -73.9666451571374 40.62216223742479, -73.96757137736043 40.62206027486026, -73.96864510622696 40.62194169581487, -73.96909724465469 40.62433282513802, -73.97019276977223 40.624203249974194, -73.97047171931142 40.62417003048167, -73.97080408232932 40.62593266659033, -73.97086150876686 40.62623718333577, -73.97092126268784 40.62656998550552, -73.97111421951189 40.62758588368451, -73.97120750524219 40.62808971219776, -73.97136622157032 40.62892916271589, -73.97109232328968 40.62896614062424, -73.97000109763489 40.62911347375601, -73.96892915890132 40.62923162562481, -73.96800084402996 40.629333058215195, -73.96707656865335 40.62943468164797, -73.96608191359873 40.6295427068263, -73.9650807282895 40.62965467559488, -73.96414862835252 40.62973896556128, -73.96322149343035 40.62984106103685, -73.96232599364598 40.62996871673761, -73.96197454283195 40.629995041080385, -73.96182099849084 40.630004877401824, -73.9616363994039 40.630022223018415, -73.96136921593195 40.630058388262455, -73.96046280639713 40.630155661219476, -73.96040734342061 40.63016253057628, -73.96025855010787 40.6294182625654, -73.96024902920543 40.629370621832436, -73.9602256005792 40.62925450129715, -73.96014773493869 40.62891518541706, -73.95995565121842 40.627778672540636, -73.9589941629722 40.627885594543145, -73.95805293146628 40.627971118632, -73.95684697280602 40.62811987905406, -73.95581207194958 40.62823349190701, -73.9548849915694 40.62833554833743, -73.95395983418416 40.62843938961409, -73.95303133100145 40.62854011509271, -73.95206901809611 40.62864578101477, -73.95110641920346 40.628750467094555, -73.95017656950539 40.62885277202811, -73.94925229833636 40.62895476532659, -73.94832386196282 40.6290566605328, -73.94732672160586 40.62916656720947)))'\n",
    "\n",
    "start_time = time.clock()\n",
    "results = client.get(\"fhrw-4uyv\", \n",
    "                     limit = 50000,\n",
    "                     where = \"within_polygon(location, '{0}')\".format(MTPLG))\n",
    "print(time.clock() - start_time, \"seconds\")\n",
    "\n",
    "# Convert to pandas DataFrame\n",
    "results_df = pd.DataFrame.from_records(results)"
   ]
  },
  {
   "cell_type": "code",
   "execution_count": 62,
   "metadata": {
    "extensions": {
     "jupyter_dashboards": {
      "version": 1,
      "views": {
       "grid_default": {
        "col": 4,
        "height": 4,
        "hidden": false,
        "row": 0,
        "width": 4
       },
       "report_default": {}
      }
     }
    }
   },
   "outputs": [
    {
     "data": {
      "text/plain": [
       "(48604, 47)"
      ]
     },
     "execution_count": 62,
     "metadata": {},
     "output_type": "execute_result"
    }
   ],
   "source": [
    "results_df.shape"
   ]
  },
  {
   "cell_type": "code",
   "execution_count": 63,
   "metadata": {
    "extensions": {
     "jupyter_dashboards": {
      "version": 1,
      "views": {
       "grid_default": {
        "col": 0,
        "height": 14,
        "hidden": false,
        "row": 4,
        "width": 12
       },
       "report_default": {}
      }
     }
    },
    "scrolled": true
   },
   "outputs": [
    {
     "data": {
      "text/html": [
       "<div>\n",
       "<style scoped>\n",
       "    .dataframe tbody tr th:only-of-type {\n",
       "        vertical-align: middle;\n",
       "    }\n",
       "\n",
       "    .dataframe tbody tr th {\n",
       "        vertical-align: top;\n",
       "    }\n",
       "\n",
       "    .dataframe thead th {\n",
       "        text-align: right;\n",
       "    }\n",
       "</style>\n",
       "<table border=\"1\" class=\"dataframe\">\n",
       "  <thead>\n",
       "    <tr style=\"text-align: right;\">\n",
       "      <th></th>\n",
       "      <th>address_type</th>\n",
       "      <th>agency</th>\n",
       "      <th>agency_name</th>\n",
       "      <th>borough</th>\n",
       "      <th>city</th>\n",
       "      <th>closed_date</th>\n",
       "      <th>community_board</th>\n",
       "      <th>complaint_type</th>\n",
       "      <th>created_date</th>\n",
       "      <th>cross_street_1</th>\n",
       "      <th>...</th>\n",
       "      <th>school_state</th>\n",
       "      <th>school_zip</th>\n",
       "      <th>status</th>\n",
       "      <th>street_name</th>\n",
       "      <th>taxi_company_borough</th>\n",
       "      <th>taxi_pick_up_location</th>\n",
       "      <th>unique_key</th>\n",
       "      <th>vehicle_type</th>\n",
       "      <th>x_coordinate_state_plane</th>\n",
       "      <th>y_coordinate_state_plane</th>\n",
       "    </tr>\n",
       "  </thead>\n",
       "  <tbody>\n",
       "    <tr>\n",
       "      <th>0</th>\n",
       "      <td>ADDRESS</td>\n",
       "      <td>NYPD</td>\n",
       "      <td>New York City Police Department</td>\n",
       "      <td>BROOKLYN</td>\n",
       "      <td>BROOKLYN</td>\n",
       "      <td>2017-11-15T04:17:23.000</td>\n",
       "      <td>14 BROOKLYN</td>\n",
       "      <td>Illegal Parking</td>\n",
       "      <td>2017-11-14T23:32:55.000</td>\n",
       "      <td>EAST 12 STREET</td>\n",
       "      <td>...</td>\n",
       "      <td>Unspecified</td>\n",
       "      <td>Unspecified</td>\n",
       "      <td>Closed</td>\n",
       "      <td>AVENUE H</td>\n",
       "      <td>NaN</td>\n",
       "      <td>NaN</td>\n",
       "      <td>37692658</td>\n",
       "      <td>NaN</td>\n",
       "      <td>993986</td>\n",
       "      <td>168680</td>\n",
       "    </tr>\n",
       "    <tr>\n",
       "      <th>1</th>\n",
       "      <td>ADDRESS</td>\n",
       "      <td>DSNY</td>\n",
       "      <td>Department of Sanitation</td>\n",
       "      <td>BROOKLYN</td>\n",
       "      <td>BROOKLYN</td>\n",
       "      <td>2017-11-16T00:00:00.000</td>\n",
       "      <td>14 BROOKLYN</td>\n",
       "      <td>Request Large Bulky Item Collection</td>\n",
       "      <td>2017-11-14T08:54:00.000</td>\n",
       "      <td>AVENUE H</td>\n",
       "      <td>...</td>\n",
       "      <td>Unspecified</td>\n",
       "      <td>Unspecified</td>\n",
       "      <td>Closed</td>\n",
       "      <td>EAST   12 STREET</td>\n",
       "      <td>NaN</td>\n",
       "      <td>NaN</td>\n",
       "      <td>37693124</td>\n",
       "      <td>NaN</td>\n",
       "      <td>993966</td>\n",
       "      <td>168544</td>\n",
       "    </tr>\n",
       "    <tr>\n",
       "      <th>2</th>\n",
       "      <td>ADDRESS</td>\n",
       "      <td>HPD</td>\n",
       "      <td>Department of Housing Preservation and Develop...</td>\n",
       "      <td>BROOKLYN</td>\n",
       "      <td>BROOKLYN</td>\n",
       "      <td>2018-01-29T14:00:10.000</td>\n",
       "      <td>14 BROOKLYN</td>\n",
       "      <td>HEAT/HOT WATER</td>\n",
       "      <td>2018-01-28T08:52:30.000</td>\n",
       "      <td>NaN</td>\n",
       "      <td>...</td>\n",
       "      <td>Unspecified</td>\n",
       "      <td>Unspecified</td>\n",
       "      <td>Closed</td>\n",
       "      <td>EAST   19 STREET</td>\n",
       "      <td>NaN</td>\n",
       "      <td>NaN</td>\n",
       "      <td>38326782</td>\n",
       "      <td>NaN</td>\n",
       "      <td>996702</td>\n",
       "      <td>162476</td>\n",
       "    </tr>\n",
       "    <tr>\n",
       "      <th>3</th>\n",
       "      <td>ADDRESS</td>\n",
       "      <td>HPD</td>\n",
       "      <td>Department of Housing Preservation and Develop...</td>\n",
       "      <td>BROOKLYN</td>\n",
       "      <td>BROOKLYN</td>\n",
       "      <td>2018-01-29T19:10:50.000</td>\n",
       "      <td>14 BROOKLYN</td>\n",
       "      <td>HEAT/HOT WATER</td>\n",
       "      <td>2018-01-28T04:50:20.000</td>\n",
       "      <td>NaN</td>\n",
       "      <td>...</td>\n",
       "      <td>Unspecified</td>\n",
       "      <td>Unspecified</td>\n",
       "      <td>Closed</td>\n",
       "      <td>AVENUE I</td>\n",
       "      <td>NaN</td>\n",
       "      <td>NaN</td>\n",
       "      <td>38326066</td>\n",
       "      <td>NaN</td>\n",
       "      <td>995139</td>\n",
       "      <td>167967</td>\n",
       "    </tr>\n",
       "    <tr>\n",
       "      <th>4</th>\n",
       "      <td>ADDRESS</td>\n",
       "      <td>HPD</td>\n",
       "      <td>Department of Housing Preservation and Develop...</td>\n",
       "      <td>BROOKLYN</td>\n",
       "      <td>BROOKLYN</td>\n",
       "      <td>2018-01-29T19:53:14.000</td>\n",
       "      <td>14 BROOKLYN</td>\n",
       "      <td>HEAT/HOT WATER</td>\n",
       "      <td>2018-01-28T20:53:38.000</td>\n",
       "      <td>NaN</td>\n",
       "      <td>...</td>\n",
       "      <td>Unspecified</td>\n",
       "      <td>Unspecified</td>\n",
       "      <td>Closed</td>\n",
       "      <td>AVENUE H</td>\n",
       "      <td>NaN</td>\n",
       "      <td>NaN</td>\n",
       "      <td>38326832</td>\n",
       "      <td>NaN</td>\n",
       "      <td>994295</td>\n",
       "      <td>168720</td>\n",
       "    </tr>\n",
       "  </tbody>\n",
       "</table>\n",
       "<p>5 rows × 47 columns</p>\n",
       "</div>"
      ],
      "text/plain": [
       "  address_type agency                                        agency_name  \\\n",
       "0      ADDRESS   NYPD                    New York City Police Department   \n",
       "1      ADDRESS   DSNY                           Department of Sanitation   \n",
       "2      ADDRESS    HPD  Department of Housing Preservation and Develop...   \n",
       "3      ADDRESS    HPD  Department of Housing Preservation and Develop...   \n",
       "4      ADDRESS    HPD  Department of Housing Preservation and Develop...   \n",
       "\n",
       "    borough      city              closed_date community_board  \\\n",
       "0  BROOKLYN  BROOKLYN  2017-11-15T04:17:23.000     14 BROOKLYN   \n",
       "1  BROOKLYN  BROOKLYN  2017-11-16T00:00:00.000     14 BROOKLYN   \n",
       "2  BROOKLYN  BROOKLYN  2018-01-29T14:00:10.000     14 BROOKLYN   \n",
       "3  BROOKLYN  BROOKLYN  2018-01-29T19:10:50.000     14 BROOKLYN   \n",
       "4  BROOKLYN  BROOKLYN  2018-01-29T19:53:14.000     14 BROOKLYN   \n",
       "\n",
       "                        complaint_type             created_date  \\\n",
       "0                      Illegal Parking  2017-11-14T23:32:55.000   \n",
       "1  Request Large Bulky Item Collection  2017-11-14T08:54:00.000   \n",
       "2                       HEAT/HOT WATER  2018-01-28T08:52:30.000   \n",
       "3                       HEAT/HOT WATER  2018-01-28T04:50:20.000   \n",
       "4                       HEAT/HOT WATER  2018-01-28T20:53:38.000   \n",
       "\n",
       "   cross_street_1           ...            school_state   school_zip  status  \\\n",
       "0  EAST 12 STREET           ...             Unspecified  Unspecified  Closed   \n",
       "1        AVENUE H           ...             Unspecified  Unspecified  Closed   \n",
       "2             NaN           ...             Unspecified  Unspecified  Closed   \n",
       "3             NaN           ...             Unspecified  Unspecified  Closed   \n",
       "4             NaN           ...             Unspecified  Unspecified  Closed   \n",
       "\n",
       "        street_name taxi_company_borough taxi_pick_up_location unique_key  \\\n",
       "0          AVENUE H                  NaN                   NaN   37692658   \n",
       "1  EAST   12 STREET                  NaN                   NaN   37693124   \n",
       "2  EAST   19 STREET                  NaN                   NaN   38326782   \n",
       "3          AVENUE I                  NaN                   NaN   38326066   \n",
       "4          AVENUE H                  NaN                   NaN   38326832   \n",
       "\n",
       "  vehicle_type x_coordinate_state_plane y_coordinate_state_plane  \n",
       "0          NaN                   993986                   168680  \n",
       "1          NaN                   993966                   168544  \n",
       "2          NaN                   996702                   162476  \n",
       "3          NaN                   995139                   167967  \n",
       "4          NaN                   994295                   168720  \n",
       "\n",
       "[5 rows x 47 columns]"
      ]
     },
     "execution_count": 63,
     "metadata": {},
     "output_type": "execute_result"
    }
   ],
   "source": [
    "results_df.head(5)"
   ]
  },
  {
   "cell_type": "markdown",
   "metadata": {
    "extensions": {
     "jupyter_dashboards": {
      "version": 1,
      "views": {
       "grid_default": {
        "col": 8,
        "height": 4,
        "hidden": false,
        "row": 0,
        "width": 4
       },
       "report_default": {}
      }
     }
    }
   },
   "source": [
    "# Turn into dashboard\n",
    "\n",
    "https://mybinder.org/\n",
    "\n",
    "https://bqplot.readthedocs.io/en/stable/\n",
    "\n",
    "http://jupyter.org/widgets"
   ]
  },
  {
   "cell_type": "code",
   "execution_count": null,
   "metadata": {
    "extensions": {
     "jupyter_dashboards": {
      "version": 1,
      "views": {
       "grid_default": {
        "hidden": true
       },
       "report_default": {}
      }
     }
    }
   },
   "outputs": [],
   "source": [
    "# !pip install jupyter_dashboards\n",
    "# !jupyter dashboards quick-setup --sys-prefix"
   ]
  },
  {
   "cell_type": "code",
   "execution_count": null,
   "metadata": {},
   "outputs": [],
   "source": []
  }
 ],
 "metadata": {
  "extensions": {
   "jupyter_dashboards": {
    "activeView": "grid_default",
    "version": 1,
    "views": {
     "grid_default": {
      "cellMargin": 10,
      "defaultCellHeight": 20,
      "maxColumns": 12,
      "name": "grid",
      "type": "grid"
     },
     "report_default": {
      "name": "report",
      "type": "report"
     }
    }
   }
  },
  "kernelspec": {
   "display_name": "Python 3",
   "language": "python",
   "name": "python3"
  },
  "language_info": {
   "codemirror_mode": {
    "name": "ipython",
    "version": 3
   },
   "file_extension": ".py",
   "mimetype": "text/x-python",
   "name": "python",
   "nbconvert_exporter": "python",
   "pygments_lexer": "ipython3",
   "version": "3.6.4"
  }
 },
 "nbformat": 4,
 "nbformat_minor": 2
}
