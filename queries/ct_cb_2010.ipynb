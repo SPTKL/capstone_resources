{
 "cells": [
  {
   "cell_type": "code",
   "execution_count": 31,
   "metadata": {},
   "outputs": [],
   "source": [
    "import pandas as pd\n",
    "from sodapy import Socrata\n",
    "import time\n",
    "import sys\n",
    "import json\n",
    "import geopandas as gpd\n",
    "import fiona\n",
    "import shapely\n",
    "import pylab as pl\n",
    "import numpy as np\n",
    "from shapely.geometry import asShape"
   ]
  },
  {
   "cell_type": "code",
   "execution_count": 41,
   "metadata": {},
   "outputs": [],
   "source": [
    "client = Socrata(\"data.cityofnewyork.us\", 'VQtPna4DyINdAHU8AgxFGwiEr')\n",
    "def polygon_query_points(client, MTPLG):\n",
    "    results = client.get(\"fhrw-4uyv\", \n",
    "                         select = 'unique_key',\n",
    "                         limit = 5000000000000,\n",
    "                         where = \"within_polygon(location, '{0}')\".format(MTPLG))\n",
    "    return results"
   ]
  },
  {
   "cell_type": "code",
   "execution_count": 87,
   "metadata": {},
   "outputs": [],
   "source": [
    "import urllib.request, json \n",
    "with urllib.request.urlopen('http://services5.arcgis.com/GfwWNkhOj9bNBqoJ/arcgis/rest/services/nycb2010/FeatureServer/0/query?where=1=1&outFields=*&outSR=4326&f=geojson') as url:\n",
    "    data = json.loads(url.read().decode())\n",
    "census = gpd.GeoDataFrame.from_records(data['features'])\n",
    "census['geometry'] = list(map(lambda x: asShape(x), census.geometry))\n",
    "census['BCTCB2010'] = list(map(lambda x: x['BCTCB2010'], census.properties))"
   ]
  },
  {
   "cell_type": "code",
   "execution_count": 88,
   "metadata": {},
   "outputs": [
    {
     "data": {
      "text/html": [
       "<div>\n",
       "<style scoped>\n",
       "    .dataframe tbody tr th:only-of-type {\n",
       "        vertical-align: middle;\n",
       "    }\n",
       "\n",
       "    .dataframe tbody tr th {\n",
       "        vertical-align: top;\n",
       "    }\n",
       "\n",
       "    .dataframe thead th {\n",
       "        text-align: right;\n",
       "    }\n",
       "</style>\n",
       "<table border=\"1\" class=\"dataframe\">\n",
       "  <thead>\n",
       "    <tr style=\"text-align: right;\">\n",
       "      <th></th>\n",
       "      <th>geometry</th>\n",
       "      <th>id</th>\n",
       "      <th>properties</th>\n",
       "      <th>type</th>\n",
       "      <th>BCTCB2010</th>\n",
       "    </tr>\n",
       "  </thead>\n",
       "  <tbody>\n",
       "    <tr>\n",
       "      <th>0</th>\n",
       "      <td>POLYGON ((-74.0792072378683 40.6434390239735, ...</td>\n",
       "      <td>1</td>\n",
       "      <td>{'OBJECTID': 1, 'CB2010': '1000', 'BoroCode': ...</td>\n",
       "      <td>Feature</td>\n",
       "      <td>50009001000</td>\n",
       "    </tr>\n",
       "    <tr>\n",
       "      <th>1</th>\n",
       "      <td>POLYGON ((-74.0706213873995 40.6108633011882, ...</td>\n",
       "      <td>2</td>\n",
       "      <td>{'OBJECTID': 2, 'CB2010': '1000', 'BoroCode': ...</td>\n",
       "      <td>Feature</td>\n",
       "      <td>50020011000</td>\n",
       "    </tr>\n",
       "    <tr>\n",
       "      <th>2</th>\n",
       "      <td>POLYGON ((-74.07524550452059 40.6260145614741,...</td>\n",
       "      <td>3</td>\n",
       "      <td>{'OBJECTID': 3, 'CB2010': '1000', 'BoroCode': ...</td>\n",
       "      <td>Feature</td>\n",
       "      <td>50027001000</td>\n",
       "    </tr>\n",
       "    <tr>\n",
       "      <th>3</th>\n",
       "      <td>POLYGON ((-74.08708946520341 40.6111770648569,...</td>\n",
       "      <td>4</td>\n",
       "      <td>{'OBJECTID': 4, 'CB2010': '1000', 'BoroCode': ...</td>\n",
       "      <td>Feature</td>\n",
       "      <td>50040001000</td>\n",
       "    </tr>\n",
       "    <tr>\n",
       "      <th>4</th>\n",
       "      <td>POLYGON ((-74.0764389094046 40.6010098385503, ...</td>\n",
       "      <td>5</td>\n",
       "      <td>{'OBJECTID': 5, 'CB2010': '1000', 'BoroCode': ...</td>\n",
       "      <td>Feature</td>\n",
       "      <td>50064001000</td>\n",
       "    </tr>\n",
       "  </tbody>\n",
       "</table>\n",
       "</div>"
      ],
      "text/plain": [
       "                                            geometry  id  \\\n",
       "0  POLYGON ((-74.0792072378683 40.6434390239735, ...   1   \n",
       "1  POLYGON ((-74.0706213873995 40.6108633011882, ...   2   \n",
       "2  POLYGON ((-74.07524550452059 40.6260145614741,...   3   \n",
       "3  POLYGON ((-74.08708946520341 40.6111770648569,...   4   \n",
       "4  POLYGON ((-74.0764389094046 40.6010098385503, ...   5   \n",
       "\n",
       "                                          properties     type    BCTCB2010  \n",
       "0  {'OBJECTID': 1, 'CB2010': '1000', 'BoroCode': ...  Feature  50009001000  \n",
       "1  {'OBJECTID': 2, 'CB2010': '1000', 'BoroCode': ...  Feature  50020011000  \n",
       "2  {'OBJECTID': 3, 'CB2010': '1000', 'BoroCode': ...  Feature  50027001000  \n",
       "3  {'OBJECTID': 4, 'CB2010': '1000', 'BoroCode': ...  Feature  50040001000  \n",
       "4  {'OBJECTID': 5, 'CB2010': '1000', 'BoroCode': ...  Feature  50064001000  "
      ]
     },
     "execution_count": 88,
     "metadata": {},
     "output_type": "execute_result"
    }
   ],
   "source": [
    "census.head()"
   ]
  },
  {
   "cell_type": "code",
   "execution_count": 89,
   "metadata": {},
   "outputs": [],
   "source": [
    "def create_dict(i):\n",
    "    results = polygon_query_points(client, census['geometry'][i])\n",
    "    results = [dict(item, BCTCB2010 = census['BCTCB2010'][i]) for item in results]\n",
    "    return results"
   ]
  },
  {
   "cell_type": "code",
   "execution_count": 90,
   "metadata": {},
   "outputs": [],
   "source": [
    "L = []\n",
    "for i in range(len(census.id)):\n",
    "    L = L + create_dict(i)"
   ]
  },
  {
   "cell_type": "code",
   "execution_count": 97,
   "metadata": {},
   "outputs": [],
   "source": [
    "pd.DataFrame(L).to_csv('BCTCB2010_311.csv', index = False)"
   ]
  },
  {
   "cell_type": "code",
   "execution_count": null,
   "metadata": {},
   "outputs": [],
   "source": [
    "1048576"
   ]
  },
  {
   "cell_type": "code",
   "execution_count": 98,
   "metadata": {},
   "outputs": [
    {
     "data": {
      "text/plain": [
       "173933"
      ]
     },
     "execution_count": 98,
     "metadata": {},
     "output_type": "execute_result"
    }
   ],
   "source": [
    "len(L)"
   ]
  },
  {
   "cell_type": "code",
   "execution_count": null,
   "metadata": {},
   "outputs": [],
   "source": []
  }
 ],
 "metadata": {
  "kernelspec": {
   "display_name": "Python 3",
   "language": "python",
   "name": "python3"
  },
  "language_info": {
   "codemirror_mode": {
    "name": "ipython",
    "version": 3
   },
   "file_extension": ".py",
   "mimetype": "text/x-python",
   "name": "python",
   "nbconvert_exporter": "python",
   "pygments_lexer": "ipython3",
   "version": "3.6.4"
  }
 },
 "nbformat": 4,
 "nbformat_minor": 2
}
