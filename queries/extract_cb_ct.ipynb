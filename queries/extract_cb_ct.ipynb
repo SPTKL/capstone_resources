{
 "cells": [
  {
   "cell_type": "code",
   "execution_count": null,
   "metadata": {},
   "outputs": [],
   "source": [
    "import pandas as pd\n",
    "from sodapy import Socrata\n",
    "import time\n",
    "import sys\n",
    "import json\n",
    "import geopandas as gpd\n",
    "import fiona\n",
    "import shapely\n",
    "import pylab as pl\n",
    "import numpy as np\n",
    "from shapely.geometry import asShape\n",
    "import urllib.request, json \n",
    "from tqdm import tqdm\n",
    "from tqdm import tqdm_notebook\n",
    "from time import sleep"
   ]
  },
  {
   "cell_type": "code",
   "execution_count": null,
   "metadata": {},
   "outputs": [],
   "source": [
    "client = Socrata(\"data.cityofnewyork.us\", 'VQtPna4DyINdAHU8AgxFGwiEr')\n",
    "def polygon_query_points_id(client, MTPLG):\n",
    "    results = client.get(\"fhrw-4uyv\", \n",
    "                         select = 'unique_key',\n",
    "                         limit = 5000000000000,\n",
    "                         where = \"within_polygon(location, '{0}')\".format(MTPLG))\n",
    "    return results"
   ]
  },
  {
   "cell_type": "markdown",
   "metadata": {},
   "source": [
    "Load census block shapefile from [link](https://data.cityofnewyork.us/City-Government/2010-Census-Blocks/v2h8-6mxf/data)"
   ]
  },
  {
   "cell_type": "code",
   "execution_count": null,
   "metadata": {},
   "outputs": [],
   "source": [
    "cb_raw = client.get(\"twhy-dzjp\", limit = 5000000000000)\n",
    "cb = gpd.GeoDataFrame.from_records(cb_raw)\n",
    "cb['geometry'] = list(map(lambda x: asShape(x), cb.the_geom))"
   ]
  },
  {
   "cell_type": "code",
   "execution_count": null,
   "metadata": {},
   "outputs": [],
   "source": [
    "cb.head()"
   ]
  },
  {
   "cell_type": "code",
   "execution_count": null,
   "metadata": {},
   "outputs": [],
   "source": [
    "def create_dict(i):\n",
    "    results = polygon_query_points(client, cb['geometry'][i])\n",
    "    results = [dict(item, bctcb2010 = cb['bctcb2010'][i]) for item in results]\n",
    "    return results"
   ]
  },
  {
   "cell_type": "code",
   "execution_count": null,
   "metadata": {},
   "outputs": [],
   "source": [
    "L = []\n",
    "exceptions = []\n",
    "for i in tqdm_notebook(range(0,38795-1000, 1000)):\n",
    "    for j in tqdm_notebook(range(i, i + 1000)):\n",
    "        try: \n",
    "            L = L + create_dict(j)\n",
    "        except Exception:\n",
    "            exceptions.append(j)"
   ]
  },
  {
   "cell_type": "code",
   "execution_count": null,
   "metadata": {},
   "outputs": [],
   "source": [
    " for j in tqdm_notebook(range(38000, 38794)):\n",
    "        try: \n",
    "            L = L + create_dict(j)\n",
    "        except Exception:\n",
    "            pass"
   ]
  },
  {
   "cell_type": "code",
   "execution_count": null,
   "metadata": {},
   "outputs": [],
   "source": [
    "pd.DataFrame(L).to_csv('cb_2010_311_partial.csv', index = False)"
   ]
  },
  {
   "cell_type": "markdown",
   "metadata": {},
   "source": [
    "census tract [link](https://data.cityofnewyork.us/City-Government/2010-Census-Tracts/fxpq-c8ku/data)"
   ]
  },
  {
   "cell_type": "code",
   "execution_count": null,
   "metadata": {},
   "outputs": [],
   "source": [
    "len(exceptions)"
   ]
  },
  {
   "cell_type": "code",
   "execution_count": null,
   "metadata": {},
   "outputs": [],
   "source": [
    "max(cb.index)"
   ]
  },
  {
   "cell_type": "code",
   "execution_count": null,
   "metadata": {},
   "outputs": [],
   "source": [
    "exceptions"
   ]
  },
  {
   "cell_type": "code",
   "execution_count": null,
   "metadata": {},
   "outputs": [],
   "source": []
  }
 ],
 "metadata": {
  "kernelspec": {
   "display_name": "Python 3",
   "language": "python",
   "name": "python3"
  },
  "language_info": {
   "codemirror_mode": {
    "name": "ipython",
    "version": 3
   },
   "file_extension": ".py",
   "mimetype": "text/x-python",
   "name": "python",
   "nbconvert_exporter": "python",
   "pygments_lexer": "ipython3",
   "version": "3.6.4"
  }
 },
 "nbformat": 4,
 "nbformat_minor": 2
}
